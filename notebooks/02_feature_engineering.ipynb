{
 "cells": [
  {
   "cell_type": "code",
   "metadata": {
    "ExecuteTime": {
     "end_time": "2025-08-26T10:36:43.153499Z",
     "start_time": "2025-08-26T10:36:42.923639Z"
    }
   },
   "source": [
    "import pandas as pd\n",
    "from utils import create_features"
   ],
   "outputs": [],
   "execution_count": 1
  },
  {
   "cell_type": "code",
   "metadata": {
    "ExecuteTime": {
     "end_time": "2025-08-26T10:36:43.172593Z",
     "start_time": "2025-08-26T10:36:43.167435Z"
    }
   },
   "source": [
    "data = pd.read_csv('../data/SOL-USD.csv')"
   ],
   "outputs": [],
   "execution_count": 2
  },
  {
   "cell_type": "code",
   "metadata": {
    "ExecuteTime": {
     "end_time": "2025-08-26T10:36:43.187353Z",
     "start_time": "2025-08-26T10:36:43.183034Z"
    }
   },
   "source": [
    "print(data.isna().sum())"
   ],
   "outputs": [
    {
     "name": "stdout",
     "output_type": "stream",
     "text": [
      "Date         0\n",
      "Open         0\n",
      "High         0\n",
      "Low          0\n",
      "Close        0\n",
      "Adj Close    0\n",
      "Volume       0\n",
      "dtype: int64\n"
     ]
    }
   ],
   "execution_count": 3
  },
  {
   "cell_type": "code",
   "metadata": {
    "ExecuteTime": {
     "end_time": "2025-08-26T10:36:43.268225Z",
     "start_time": "2025-08-26T10:36:43.260189Z"
    }
   },
   "source": [
    "filtered_df, feature_cols = create_features(data)"
   ],
   "outputs": [],
   "execution_count": 4
  },
  {
   "cell_type": "code",
   "metadata": {
    "ExecuteTime": {
     "end_time": "2025-08-26T10:36:43.331035Z",
     "start_time": "2025-08-26T10:36:43.311928Z"
    }
   },
   "source": [
    "filtered_df, _ = create_features(data)\n",
    "filtered_df.to_csv('../data/SOL-USD-filtered.csv', index=False)"
   ],
   "outputs": [],
   "execution_count": 5
  },
  {
   "cell_type": "code",
   "metadata": {
    "ExecuteTime": {
     "end_time": "2025-08-26T10:36:43.349592Z",
     "start_time": "2025-08-26T10:36:43.340838Z"
    }
   },
   "source": [
    "filtered_df.head()"
   ],
   "outputs": [
    {
     "data": {
      "text/plain": [
       "         Date      Open      High       Low     Close  Adj Close   Volume  \\\n",
       "0  2020-04-25  0.630528  0.670948  0.621547  0.643329   0.643329  7311905   \n",
       "1  2020-04-26  0.653215  0.691499  0.631171  0.635506   0.635506  8320760   \n",
       "2  2020-04-27  0.635714  0.660283  0.561028  0.572372   0.572372  7406934   \n",
       "3  2020-04-28  0.578253  0.692148  0.568484  0.661293   0.661293  7470201   \n",
       "4  2020-04-29  0.662286  0.777771  0.655274  0.745840   0.745840  8801144   \n",
       "\n",
       "   Return_Open_1  Return_High_1  Return_Low_1  ...  Close_vs_MA5     RSI_14  \\\n",
       "0       0.010428      -0.000107      0.012389  ...      0.010161  41.772614   \n",
       "1       0.035981       0.030630      0.015484  ...     -0.016894  32.688197   \n",
       "2      -0.026792      -0.045143     -0.111132  ...     -0.080647  34.709339   \n",
       "3      -0.090388       0.048260      0.013290  ...      0.050758  49.950997   \n",
       "4       0.145322       0.123706      0.152669  ...      0.144509  56.944695   \n",
       "\n",
       "       MACD  MA_Close_5_lag  Vol_Close_5_lag  HL_Ratio_5_lag  \\\n",
       "0 -0.079939        0.615954         0.056879        0.312838   \n",
       "1 -0.076788        0.636858         0.037264        0.308419   \n",
       "2 -0.078481        0.646427         0.025874        0.216116   \n",
       "3 -0.071819        0.622581         0.028628        0.239440   \n",
       "4 -0.059037        0.629348         0.033631        0.198278   \n",
       "\n",
       "   Close_vs_MA5_lag  RSI_14_lag  MACD_lag    Target  \n",
       "0          0.029690   33.776559 -0.083594 -0.012160  \n",
       "1          0.010161   41.772614 -0.079939 -0.099344  \n",
       "2         -0.016894   32.688197 -0.076788  0.155355  \n",
       "3         -0.080647   34.709339 -0.078481  0.127851  \n",
       "4          0.050758   49.950997 -0.071819 -0.073467  \n",
       "\n",
       "[5 rows x 28 columns]"
      ],
      "text/html": [
       "<div>\n",
       "<style scoped>\n",
       "    .dataframe tbody tr th:only-of-type {\n",
       "        vertical-align: middle;\n",
       "    }\n",
       "\n",
       "    .dataframe tbody tr th {\n",
       "        vertical-align: top;\n",
       "    }\n",
       "\n",
       "    .dataframe thead th {\n",
       "        text-align: right;\n",
       "    }\n",
       "</style>\n",
       "<table border=\"1\" class=\"dataframe\">\n",
       "  <thead>\n",
       "    <tr style=\"text-align: right;\">\n",
       "      <th></th>\n",
       "      <th>Date</th>\n",
       "      <th>Open</th>\n",
       "      <th>High</th>\n",
       "      <th>Low</th>\n",
       "      <th>Close</th>\n",
       "      <th>Adj Close</th>\n",
       "      <th>Volume</th>\n",
       "      <th>Return_Open_1</th>\n",
       "      <th>Return_High_1</th>\n",
       "      <th>Return_Low_1</th>\n",
       "      <th>...</th>\n",
       "      <th>Close_vs_MA5</th>\n",
       "      <th>RSI_14</th>\n",
       "      <th>MACD</th>\n",
       "      <th>MA_Close_5_lag</th>\n",
       "      <th>Vol_Close_5_lag</th>\n",
       "      <th>HL_Ratio_5_lag</th>\n",
       "      <th>Close_vs_MA5_lag</th>\n",
       "      <th>RSI_14_lag</th>\n",
       "      <th>MACD_lag</th>\n",
       "      <th>Target</th>\n",
       "    </tr>\n",
       "  </thead>\n",
       "  <tbody>\n",
       "    <tr>\n",
       "      <th>0</th>\n",
       "      <td>2020-04-25</td>\n",
       "      <td>0.630528</td>\n",
       "      <td>0.670948</td>\n",
       "      <td>0.621547</td>\n",
       "      <td>0.643329</td>\n",
       "      <td>0.643329</td>\n",
       "      <td>7311905</td>\n",
       "      <td>0.010428</td>\n",
       "      <td>-0.000107</td>\n",
       "      <td>0.012389</td>\n",
       "      <td>...</td>\n",
       "      <td>0.010161</td>\n",
       "      <td>41.772614</td>\n",
       "      <td>-0.079939</td>\n",
       "      <td>0.615954</td>\n",
       "      <td>0.056879</td>\n",
       "      <td>0.312838</td>\n",
       "      <td>0.029690</td>\n",
       "      <td>33.776559</td>\n",
       "      <td>-0.083594</td>\n",
       "      <td>-0.012160</td>\n",
       "    </tr>\n",
       "    <tr>\n",
       "      <th>1</th>\n",
       "      <td>2020-04-26</td>\n",
       "      <td>0.653215</td>\n",
       "      <td>0.691499</td>\n",
       "      <td>0.631171</td>\n",
       "      <td>0.635506</td>\n",
       "      <td>0.635506</td>\n",
       "      <td>8320760</td>\n",
       "      <td>0.035981</td>\n",
       "      <td>0.030630</td>\n",
       "      <td>0.015484</td>\n",
       "      <td>...</td>\n",
       "      <td>-0.016894</td>\n",
       "      <td>32.688197</td>\n",
       "      <td>-0.076788</td>\n",
       "      <td>0.636858</td>\n",
       "      <td>0.037264</td>\n",
       "      <td>0.308419</td>\n",
       "      <td>0.010161</td>\n",
       "      <td>41.772614</td>\n",
       "      <td>-0.079939</td>\n",
       "      <td>-0.099344</td>\n",
       "    </tr>\n",
       "    <tr>\n",
       "      <th>2</th>\n",
       "      <td>2020-04-27</td>\n",
       "      <td>0.635714</td>\n",
       "      <td>0.660283</td>\n",
       "      <td>0.561028</td>\n",
       "      <td>0.572372</td>\n",
       "      <td>0.572372</td>\n",
       "      <td>7406934</td>\n",
       "      <td>-0.026792</td>\n",
       "      <td>-0.045143</td>\n",
       "      <td>-0.111132</td>\n",
       "      <td>...</td>\n",
       "      <td>-0.080647</td>\n",
       "      <td>34.709339</td>\n",
       "      <td>-0.078481</td>\n",
       "      <td>0.646427</td>\n",
       "      <td>0.025874</td>\n",
       "      <td>0.216116</td>\n",
       "      <td>-0.016894</td>\n",
       "      <td>32.688197</td>\n",
       "      <td>-0.076788</td>\n",
       "      <td>0.155355</td>\n",
       "    </tr>\n",
       "    <tr>\n",
       "      <th>3</th>\n",
       "      <td>2020-04-28</td>\n",
       "      <td>0.578253</td>\n",
       "      <td>0.692148</td>\n",
       "      <td>0.568484</td>\n",
       "      <td>0.661293</td>\n",
       "      <td>0.661293</td>\n",
       "      <td>7470201</td>\n",
       "      <td>-0.090388</td>\n",
       "      <td>0.048260</td>\n",
       "      <td>0.013290</td>\n",
       "      <td>...</td>\n",
       "      <td>0.050758</td>\n",
       "      <td>49.950997</td>\n",
       "      <td>-0.071819</td>\n",
       "      <td>0.622581</td>\n",
       "      <td>0.028628</td>\n",
       "      <td>0.239440</td>\n",
       "      <td>-0.080647</td>\n",
       "      <td>34.709339</td>\n",
       "      <td>-0.078481</td>\n",
       "      <td>0.127851</td>\n",
       "    </tr>\n",
       "    <tr>\n",
       "      <th>4</th>\n",
       "      <td>2020-04-29</td>\n",
       "      <td>0.662286</td>\n",
       "      <td>0.777771</td>\n",
       "      <td>0.655274</td>\n",
       "      <td>0.745840</td>\n",
       "      <td>0.745840</td>\n",
       "      <td>8801144</td>\n",
       "      <td>0.145322</td>\n",
       "      <td>0.123706</td>\n",
       "      <td>0.152669</td>\n",
       "      <td>...</td>\n",
       "      <td>0.144509</td>\n",
       "      <td>56.944695</td>\n",
       "      <td>-0.059037</td>\n",
       "      <td>0.629348</td>\n",
       "      <td>0.033631</td>\n",
       "      <td>0.198278</td>\n",
       "      <td>0.050758</td>\n",
       "      <td>49.950997</td>\n",
       "      <td>-0.071819</td>\n",
       "      <td>-0.073467</td>\n",
       "    </tr>\n",
       "  </tbody>\n",
       "</table>\n",
       "<p>5 rows × 28 columns</p>\n",
       "</div>"
      ]
     },
     "execution_count": 6,
     "metadata": {},
     "output_type": "execute_result"
    }
   ],
   "execution_count": 6
  }
 ],
 "metadata": {
  "kernelspec": {
   "display_name": ".venv",
   "language": "python",
   "name": "python3"
  },
  "language_info": {
   "codemirror_mode": {
    "name": "ipython",
    "version": 3
   },
   "file_extension": ".py",
   "mimetype": "text/x-python",
   "name": "python",
   "nbconvert_exporter": "python",
   "pygments_lexer": "ipython3",
   "version": "3.12.0"
  }
 },
 "nbformat": 4,
 "nbformat_minor": 2
}
